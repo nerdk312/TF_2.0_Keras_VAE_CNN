{
 "cells": [
  {
   "cell_type": "code",
   "execution_count": 1,
   "metadata": {
    "scrolled": true
   },
   "outputs": [],
   "source": [
    "import matplotlib\n",
    "import matplotlib.pyplot as plt\n",
    "import tensorflow as tf\n",
    "import numpy as np"
   ]
  },
  {
   "cell_type": "code",
   "execution_count": 2,
   "metadata": {},
   "outputs": [
    {
     "name": "stdout",
     "output_type": "stream",
     "text": [
      "Using device:  /device:GPU:0\n"
     ]
    }
   ],
   "source": [
    "# Set up some global variables\n",
    "USE_GPU = True\n",
    "\n",
    "if USE_GPU:\n",
    "    device = '/device:GPU:0'\n",
    "else:\n",
    "    device = '/cpu:0'\n",
    "\n",
    "# Constant to control how often we print when training models\n",
    "print_every = 100\n",
    "\n",
    "print('Using device: ', device)"
   ]
  },
  {
   "cell_type": "markdown",
   "metadata": {},
   "source": [
    "# Data preprocessing and parameters"
   ]
  },
  {
   "cell_type": "code",
   "execution_count": 5,
   "metadata": {},
   "outputs": [],
   "source": [
    "# MNIST dataset\n",
    "(x_train, y_train), (x_test, y_test) = tf.keras.datasets.mnist.load_data()\n",
    "\n",
    "image_size = x_train.shape[1]\n",
    "original_dim = image_size * image_size\n",
    "\n",
    "x_train = x_train.astype('float32') / 255. # Nawid - Divides the values by 255\n",
    "x_test = x_test.astype('float32') / 255.\n",
    "x_train =np.reshape(x_train, [-1, image_size, image_size, 1])\n",
    "x_test =np.reshape(x_test, [-1, image_size, image_size, 1])\n",
    "\n",
    "\n",
    "# Nawid - Noisy version of the testing and training data for denoising purposes\n",
    "noise_factor = 0.5\n",
    "x_train_noisy = x_train + noise_factor * np.random.normal(loc=0.0, scale=1.0, size=x_train.shape) \n",
    "x_test_noisy = x_test + noise_factor * np.random.normal(loc=0.0, scale=1.0, size=x_test.shape) \n",
    "\n",
    "x_train_noisy = np.clip(x_train_noisy, 0., 1.)\n",
    "x_test_noisy = np.clip(x_test_noisy, 0., 1.)\n",
    "\n",
    "# network parameters\n",
    "input_shape = (28,28,1)\n",
    "intermediate_dim = 512\n",
    "batch_size = 128\n",
    "latent_dim = 32\n",
    "epochs = 5\n",
    "conv_filters = 16\n",
    "conv_kernel_size = 3"
   ]
  },
  {
   "cell_type": "markdown",
   "metadata": {},
   "source": [
    "# Encoder architecture"
   ]
  },
  {
   "cell_type": "code",
   "execution_count": 15,
   "metadata": {},
   "outputs": [],
   "source": [
    "# Nawid - Layers for the encoder architecture\n",
    "x = tf.keras.layers.Input(shape=(image_size,image_size,1))  # Nawid - Input layer\n",
    "x1 = tf.keras.layers.Conv2D(filters = conv_filters, kernel_size = conv_kernel_size, activation ='relu', strides = 2, padding = 'same')(x)\n",
    "x2 = tf.keras.layers.Conv2D(filters = 2*conv_filters, kernel_size = conv_kernel_size, activation ='relu', strides = 2, padding = 'same')(x1)\n",
    "\n",
    "shape = tf.keras.backend.int_shape(x2) # Nawid - THIS OBTAINS THE SHAPE NEEDED TO BE SPECIFIED FOR THE DECONVOLUTION (CONVTRANPOSE IN THE DECODER) \n",
    "flattened_x = tf.keras.layers.Flatten()(x2)\n",
    "# Nawid - This is an additional layer to obtain an intermediate representation beforehand - need to change to h\n",
    "h = tf.keras.layers.Dense(intermediate_dim, activation='relu')(flattened_x)\n",
    "z_mean = tf.keras.layers.Dense(latent_dim)(h)  #\n",
    "z_log_sigma = tf.keras.layers.Dense(latent_dim)(h)\n",
    "\n"
   ]
  },
  {
   "cell_type": "code",
   "execution_count": 16,
   "metadata": {},
   "outputs": [],
   "source": [
    "class Sampling(tf.keras.layers.Layer): # Nawid - Specifies a custom layer\n",
    "  \"\"\"Uses (z_mean, z_log_var) to sample z, the vector encoding a digit.\"\"\"\n",
    "\n",
    "  def call(self, inputs):\n",
    "    z_mean, z_log_sigma = inputs\n",
    "    batch = tf.shape(z_mean)[0]\n",
    "    dim = tf.shape(z_mean)[1]\n",
    "    epsilon = tf.keras.backend.random_normal(shape=(batch, dim)) # Nawid - Initalised random values with a mean of 0 and a standard deviation of 1\n",
    "    return z_mean + tf.exp(0.5 * z_log_sigma) * epsilon\n",
    "\n",
    "z = Sampling()((z_mean, z_log_sigma)) # Nawid - Instantiates the custom layer and gets the output of the custom layer which is the value of z\n"
   ]
  },
  {
   "cell_type": "markdown",
   "metadata": {},
   "source": [
    "# Decoder architecture"
   ]
  },
  {
   "cell_type": "code",
   "execution_count": 17,
   "metadata": {},
   "outputs": [],
   "source": [
    "# Nawid - Specifies the decoder layers\n",
    "z_decoded = tf.keras.layers.Dense(intermediate_dim, activation ='relu')(z)\n",
    "z_decoded = tf.keras.layers.Dense(shape[1]*shape[2]*shape[3], activation='relu')(z_decoded) # Nawid - z_decoded\n",
    "z_decoded = tf.keras.layers.Reshape((shape[1], shape[2], shape[3]))(z_decoded)\n",
    "\n",
    "z_decoded = tf.keras.layers.Conv2DTranspose(filters =conv_filters, kernel_size = conv_kernel_size, activation ='relu', strides=2, padding='same')(z_decoded)\n",
    "z_decoded = tf.keras.layers.Conv2DTranspose(filters =conv_filters//2, kernel_size = conv_kernel_size, activation ='relu', strides=2, padding='same')(z_decoded)\n",
    "x_decoded = tf.keras.layers.Conv2DTranspose(filters =1, kernel_size = conv_kernel_size, activation ='sigmoid',padding = 'same')(z_decoded)\n"
   ]
  },
  {
   "cell_type": "markdown",
   "metadata": {},
   "source": [
    "# VAE instantiation"
   ]
  },
  {
   "cell_type": "code",
   "execution_count": 18,
   "metadata": {},
   "outputs": [
    {
     "name": "stdout",
     "output_type": "stream",
     "text": [
      "Model: \"model_3\"\n",
      "__________________________________________________________________________________________________\n",
      "Layer (type)                    Output Shape         Param #     Connected to                     \n",
      "==================================================================================================\n",
      "input_2 (InputLayer)            [(None, 28, 28, 1)]  0                                            \n",
      "__________________________________________________________________________________________________\n",
      "conv2d_2 (Conv2D)               (None, 14, 14, 16)   160         input_2[0][0]                    \n",
      "__________________________________________________________________________________________________\n",
      "conv2d_3 (Conv2D)               (None, 7, 7, 32)     4640        conv2d_2[0][0]                   \n",
      "__________________________________________________________________________________________________\n",
      "flatten_1 (Flatten)             (None, 1568)         0           conv2d_3[0][0]                   \n",
      "__________________________________________________________________________________________________\n",
      "dense_5 (Dense)                 (None, 512)          803328      flatten_1[0][0]                  \n",
      "__________________________________________________________________________________________________\n",
      "dense_6 (Dense)                 (None, 32)           16416       dense_5[0][0]                    \n",
      "__________________________________________________________________________________________________\n",
      "dense_7 (Dense)                 (None, 32)           16416       dense_5[0][0]                    \n",
      "__________________________________________________________________________________________________\n",
      "sampling_1 (Sampling)           (None, 32)           0           dense_6[0][0]                    \n",
      "                                                                 dense_7[0][0]                    \n",
      "__________________________________________________________________________________________________\n",
      "dense_8 (Dense)                 (None, 512)          16896       sampling_1[0][0]                 \n",
      "__________________________________________________________________________________________________\n",
      "dense_9 (Dense)                 (None, 1568)         804384      dense_8[0][0]                    \n",
      "__________________________________________________________________________________________________\n",
      "reshape_1 (Reshape)             (None, 7, 7, 32)     0           dense_9[0][0]                    \n",
      "__________________________________________________________________________________________________\n",
      "conv2d_transpose_3 (Conv2DTrans (None, 14, 14, 16)   4624        reshape_1[0][0]                  \n",
      "__________________________________________________________________________________________________\n",
      "conv2d_transpose_4 (Conv2DTrans (None, 28, 28, 8)    1160        conv2d_transpose_3[0][0]         \n",
      "__________________________________________________________________________________________________\n",
      "conv2d_transpose_5 (Conv2DTrans (None, 28, 28, 1)    73          conv2d_transpose_4[0][0]         \n",
      "==================================================================================================\n",
      "Total params: 1,668,097\n",
      "Trainable params: 1,668,097\n",
      "Non-trainable params: 0\n",
      "__________________________________________________________________________________________________\n",
      "Model: \"model_4\"\n",
      "__________________________________________________________________________________________________\n",
      "Layer (type)                    Output Shape         Param #     Connected to                     \n",
      "==================================================================================================\n",
      "input_2 (InputLayer)            [(None, 28, 28, 1)]  0                                            \n",
      "__________________________________________________________________________________________________\n",
      "conv2d_2 (Conv2D)               (None, 14, 14, 16)   160         input_2[0][0]                    \n",
      "__________________________________________________________________________________________________\n",
      "conv2d_3 (Conv2D)               (None, 7, 7, 32)     4640        conv2d_2[0][0]                   \n",
      "__________________________________________________________________________________________________\n",
      "flatten_1 (Flatten)             (None, 1568)         0           conv2d_3[0][0]                   \n",
      "__________________________________________________________________________________________________\n",
      "dense_5 (Dense)                 (None, 512)          803328      flatten_1[0][0]                  \n",
      "__________________________________________________________________________________________________\n",
      "dense_6 (Dense)                 (None, 32)           16416       dense_5[0][0]                    \n",
      "__________________________________________________________________________________________________\n",
      "dense_7 (Dense)                 (None, 32)           16416       dense_5[0][0]                    \n",
      "__________________________________________________________________________________________________\n",
      "sampling_1 (Sampling)           (None, 32)           0           dense_6[0][0]                    \n",
      "                                                                 dense_7[0][0]                    \n",
      "==================================================================================================\n",
      "Total params: 840,960\n",
      "Trainable params: 840,960\n",
      "Non-trainable params: 0\n",
      "__________________________________________________________________________________________________\n",
      "Model: \"model_5\"\n",
      "_________________________________________________________________\n",
      "Layer (type)                 Output Shape              Param #   \n",
      "=================================================================\n",
      "input_3 (InputLayer)         [(None, 32)]              0         \n",
      "_________________________________________________________________\n",
      "dense_8 (Dense)              (None, 512)               16896     \n",
      "_________________________________________________________________\n",
      "dense_9 (Dense)              (None, 1568)              804384    \n",
      "_________________________________________________________________\n",
      "reshape_1 (Reshape)          (None, 7, 7, 32)          0         \n",
      "_________________________________________________________________\n",
      "conv2d_transpose_3 (Conv2DTr (None, 14, 14, 16)        4624      \n",
      "_________________________________________________________________\n",
      "conv2d_transpose_4 (Conv2DTr (None, 28, 28, 8)         1160      \n",
      "_________________________________________________________________\n",
      "conv2d_transpose_5 (Conv2DTr (None, 28, 28, 1)         73        \n",
      "=================================================================\n",
      "Total params: 827,137\n",
      "Trainable params: 827,137\n",
      "Non-trainable params: 0\n",
      "_________________________________________________________________\n"
     ]
    }
   ],
   "source": [
    "# end-to-end autoencoder\n",
    "vae = tf.keras.Model(x, x_decoded)\n",
    "vae.summary()\n",
    "\n",
    "# Nawid - Specifies the encoder model\n",
    "encoder = tf.keras.Model(x, z)\n",
    "encoder.summary()\n",
    "\n",
    "\n",
    "# Nawid - Copies the layers of autoencoder layers corresponding to the decoder layers\n",
    "decoder_layer1 = vae.layers[-6]\n",
    "decoder_layer2 = vae.layers[-5]\n",
    "decoder_layer3 = vae.layers[-4]\n",
    "decoder_layer4 = vae.layers[-3]\n",
    "decoder_layer5 = vae.layers[-2]\n",
    "decoder_layer6 = vae.layers[-1]\n",
    "# Nawid - Specifies the input of the decoder\n",
    "decoder_input = tf.keras.layers.Input(shape = (latent_dim))\n",
    "\n",
    "# Nawid - Decoded outputs\n",
    "decoded_z = decoder_layer1(decoder_input)\n",
    "decoded_z = decoder_layer2(decoded_z)\n",
    "decoded_z = decoder_layer3(decoded_z)\n",
    "decoded_z = decoder_layer4(decoded_z)\n",
    "decoded_z = decoder_layer5(decoded_z)\n",
    "reconstructed_x = decoder_layer6(decoded_z)\n",
    "\n",
    "decoder = tf.keras.Model(decoder_input, reconstructed_x)\n",
    "decoder.summary()\n"
   ]
  },
  {
   "cell_type": "code",
   "execution_count": 19,
   "metadata": {},
   "outputs": [],
   "source": [
    "def vae_loss(x, x_decoded_mean):\n",
    "    xent_loss = tf.keras.losses.binary_crossentropy(tf.keras.backend.flatten(x), tf.keras.backend.flatten(x_decoded_mean))\n",
    "    xent_loss *= original_dim\n",
    "    #xent_loss = tf.keras.backend.mean(xent_loss)\n",
    "    kl_loss = - 0.5 * tf.keras.backend.mean(1 + z_log_sigma - tf.keras.backend.square(z_mean) - tf.keras.backend.exp(z_log_sigma), axis=-1)\n",
    "    return xent_loss + kl_loss\n",
    "\n",
    "vae.compile(optimizer='adam', loss=vae_loss,experimental_run_tf_function=False) \n",
    "# Explanation for where experimental_run_tf comes from -  https://github.com/tensorflow/probability/issues/519 \n",
    "\n",
    "#vae.compile(optimizer='adam', loss='binary_crossentropy', experimental_run_tf_function=False)"
   ]
  },
  {
   "cell_type": "code",
   "execution_count": 20,
   "metadata": {},
   "outputs": [
    {
     "name": "stdout",
     "output_type": "stream",
     "text": [
      "Train on 60000 samples, validate on 10000 samples\n",
      "Epoch 1/5\n",
      "60000/60000 [==============================] - 17s 283us/sample - loss: 161.3247 - val_loss: 92.5967\n",
      "Epoch 2/5\n",
      "60000/60000 [==============================] - 16s 264us/sample - loss: 81.2018 - val_loss: 73.1573\n",
      "Epoch 3/5\n",
      "60000/60000 [==============================] - 16s 261us/sample - loss: 71.3220 - val_loss: 68.2984\n",
      "Epoch 4/5\n",
      "60000/60000 [==============================] - 16s 272us/sample - loss: 67.5738 - val_loss: 65.8351\n",
      "Epoch 5/5\n",
      "60000/60000 [==============================] - 16s 274us/sample - loss: 65.5470 - val_loss: 64.4564\n"
     ]
    },
    {
     "data": {
      "text/plain": [
       "<tensorflow.python.keras.callbacks.History at 0x7f59b4181cd0>"
      ]
     },
     "execution_count": 20,
     "metadata": {},
     "output_type": "execute_result"
    }
   ],
   "source": [
    "vae.fit(x_train, x_train,\n",
    "        shuffle=True,\n",
    "        epochs=epochs,\n",
    "        batch_size=batch_size,\n",
    "        validation_data=(x_test, x_test))"
   ]
  },
  {
   "cell_type": "code",
   "execution_count": 23,
   "metadata": {},
   "outputs": [
    {
     "data": {
      "image/png": "[encoded data removed]",
      "text/plain": [
       "<Figure size 1440x288 with 20 Axes>"
      ]
     },
     "metadata": {
      "needs_background": "light"
     },
     "output_type": "display_data"
    }
   ],
   "source": [
    "encoded_imgs = encoder.predict(x_test)\n",
    "decoded_imgs = decoder.predict(encoded_imgs)\n",
    "#decoded_imgs = vae.predict(x_test)\n",
    "\n",
    "n = 10  # how many digits we will display\n",
    "plt.figure(figsize=(20, 4))\n",
    "for i in range(10):\n",
    "    # display original\n",
    "    ax = plt.subplot(2, n, i + 1)\n",
    "    plt.imshow(x_test[i].reshape(28, 28))\n",
    "    plt.gray()\n",
    "    ax.get_xaxis().set_visible(False)\n",
    "    ax.get_yaxis().set_visible(False)\n",
    "\n",
    "    # display reconstruction\n",
    "    ax = plt.subplot(2, n, i + 1 + n)\n",
    "    plt.imshow(decoded_imgs[i].reshape(28, 28))\n",
    "    plt.gray()\n",
    "    ax.get_xaxis().set_visible(False)\n",
    "    ax.get_yaxis().set_visible(False)\n",
    "plt.show()"
   ]
  },
  {
   "cell_type": "code",
   "execution_count": null,
   "metadata": {},
   "outputs": [],
   "source": []
  }
 ],
 "metadata": {
  "kernelspec": {
   "display_name": "Python 3",
   "language": "python",
   "name": "python3"
  },
  "language_info": {
   "codemirror_mode": {
    "name": "ipython",
    "version": 3
   },
   "file_extension": ".py",
   "mimetype": "text/x-python",
   "name": "python",
   "nbconvert_exporter": "python",
   "pygments_lexer": "ipython3",
   "version": "3.7.5"
  }
 },
 "nbformat": 4,
 "nbformat_minor": 2
}
