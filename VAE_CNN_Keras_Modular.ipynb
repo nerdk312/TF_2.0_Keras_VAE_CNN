{
 "cells": [
  {
   "cell_type": "code",
   "execution_count": 2,
   "metadata": {
    "scrolled": true
   },
   "outputs": [],
   "source": [
    "import matplotlib\n",
    "import matplotlib.pyplot as plt\n",
    "import tensorflow as tf\n",
    "import numpy as np"
   ]
  },
  {
   "cell_type": "code",
   "execution_count": 3,
   "metadata": {},
   "outputs": [
    {
     "name": "stdout",
     "output_type": "stream",
     "text": [
      "Using device:  /device:GPU:0\n"
     ]
    }
   ],
   "source": [
    "# Set up some global variables\n",
    "USE_GPU = True\n",
    "\n",
    "if USE_GPU:\n",
    "    device = '/device:GPU:0'\n",
    "else:\n",
    "    device = '/cpu:0'\n",
    "\n",
    "# Constant to control how often we print when training models\n",
    "print_every = 100\n",
    "\n",
    "print('Using device: ', device)"
   ]
  },
  {
   "cell_type": "markdown",
   "metadata": {},
   "source": [
    "# Data preprocessing and parameters"
   ]
  },
  {
   "cell_type": "code",
   "execution_count": 4,
   "metadata": {},
   "outputs": [],
   "source": [
    "# MNIST dataset\n",
    "(x_train, y_train), (x_test, y_test) = tf.keras.datasets.mnist.load_data()\n",
    "\n",
    "image_size = x_train.shape[1]\n",
    "original_dim = image_size * image_size\n",
    "\n",
    "x_train = x_train.astype('float32') / 255. # Nawid - Divides the values by 255\n",
    "x_test = x_test.astype('float32') / 255.\n",
    "x_train =np.reshape(x_train, [-1, image_size, image_size, 1])\n",
    "x_test =np.reshape(x_test, [-1, image_size, image_size, 1])\n",
    "\n",
    "\n",
    "# Nawid - Noisy version of the testing and training data for denoising purposes\n",
    "noise_factor = 0.5\n",
    "x_train_noisy = x_train + noise_factor * np.random.normal(loc=0.0, scale=1.0, size=x_train.shape) \n",
    "x_test_noisy = x_test + noise_factor * np.random.normal(loc=0.0, scale=1.0, size=x_test.shape) \n",
    "\n",
    "x_train_noisy = np.clip(x_train_noisy, 0., 1.)\n",
    "x_test_noisy = np.clip(x_test_noisy, 0., 1.)\n",
    "\n",
    "# network parameters\n",
    "input_shape = (28,28,1)\n",
    "intermediate_dim = 64\n",
    "batch_size = 128\n",
    "latent_dim = 32\n",
    "epochs = 5\n",
    "conv_filters = 16\n",
    "conv_kernel_size = 3"
   ]
  },
  {
   "cell_type": "markdown",
   "metadata": {},
   "source": [
    "# Encoder architecture"
   ]
  },
  {
   "cell_type": "code",
   "execution_count": 5,
   "metadata": {},
   "outputs": [],
   "source": [
    "class Sampling(tf.keras.layers.Layer): # Nawid - Specifies a custom layer\n",
    "  \"\"\"Uses (z_mean, z_log_var) to sample z, the vector encoding a digit.\"\"\"\n",
    "\n",
    "  def call(self, inputs):\n",
    "    z_mean, z_log_sigma = inputs\n",
    "    batch = tf.shape(z_mean)[0]\n",
    "    dim = tf.shape(z_mean)[1]\n",
    "    epsilon = tf.keras.backend.random_normal(shape=(batch, dim)) # Nawid - Initalised random values with a mean of 0 and a standard deviation of 1\n",
    "    return z_mean + tf.exp(0.5 * z_log_sigma) * epsilon\n",
    "\n",
    "#z = Sampling()((z_mean, z_log_sigma)) # Nawid - Instantiates the custom layer and gets the output of the custom layer which is the value of z\n"
   ]
  },
  {
   "cell_type": "code",
   "execution_count": 6,
   "metadata": {},
   "outputs": [],
   "source": [
    "class Encoder(tf.keras.layers.Layer): # Nawid - This defines the layer for the encoder\n",
    "  def __init__(self, num_filters = conv_filters, num_kernel_size= conv_kernel_size, latent_dim=32, intermediate_dim = 64):\n",
    "    super(Encoder, self).__init__()\n",
    "    self.Conv1 = tf.keras.layers.Conv2D(filters = num_filters, kernel_size = num_kernel_size, activation ='relu', strides = 2, padding = 'same')\n",
    "    self.Conv2 = tf.keras.layers.Conv2D(filters = 2*num_filters, kernel_size = num_kernel_size, activation ='relu', strides = 2, padding = 'same')\n",
    "    self.Flatten  = tf.keras.layers.Flatten()\n",
    "\n",
    "    self.Dense1 = tf.keras.layers.Dense(intermediate_dim, activation='relu')\n",
    "    self.Dense_mean = tf.keras.layers.Dense(latent_dim)\n",
    "    self.Dense_log_var = tf.keras.layers.Dense(latent_dim)\n",
    "    self.sampling = Sampling() # Nawid-  This instantiates the sampling layer for the encoder\n",
    "\n",
    "  def call(self,inputs):\n",
    "    x1 = self.Conv1(inputs)\n",
    "    x1 = self.Conv2(x1)\n",
    "\n",
    "    self.conv_shape = tf.keras.backend.int_shape(x1) # Nawid - This gets the shape which is required for the decoding when using the conv2D transpose\n",
    "    flattened_x1 = self.Flatten(x1)\n",
    "\n",
    "    flattened_intermediate = self.Dense1(flattened_x1)\n",
    "    z_mean = self.Dense_mean(flattened_intermediate)\n",
    "    z_log_var = self.Dense_log_var(flattened_intermediate)\n",
    "    z = self.sampling((z_mean, z_log_var))\n",
    "    return z_mean,z_log_var, z#, conv_shape # Nawid-  Need to output the z variables as well as the shape for the decoder\n",
    "\n",
    "\n"
   ]
  },
  {
   "cell_type": "markdown",
   "metadata": {},
   "source": [
    "# Instantiating the encoder \n",
    "Required to access shape variable required"
   ]
  },
  {
   "cell_type": "code",
   "execution_count": 8,
   "metadata": {},
   "outputs": [
    {
     "name": "stdout",
     "output_type": "stream",
     "text": [
      "Model: \"model\"\n",
      "_________________________________________________________________\n",
      "Layer (type)                 Output Shape              Param #   \n",
      "=================================================================\n",
      "input_1 (InputLayer)         [(None, 28, 28, 1)]       0         \n",
      "_________________________________________________________________\n",
      "encoder (Encoder)            ((None, 32), (None, 32),  109376    \n",
      "=================================================================\n",
      "Total params: 109,376\n",
      "Trainable params: 109,376\n",
      "Non-trainable params: 0\n",
      "_________________________________________________________________\n"
     ]
    }
   ],
   "source": [
    "x = tf.keras.layers.Input(shape=(image_size,image_size,1))  # Nawid - Input layer\n",
    "encoder = Encoder() # Nawid - Instantiates encoder layer which is required to find the shape property\n",
    "z_mean, z_log_var, z = encoder(x)\n",
    "shape = encoder.conv_shape\n",
    "\n",
    "encoder_model = tf.keras.Model(x,z)\n",
    "encoder_model.summary()\n"
   ]
  },
  {
   "cell_type": "markdown",
   "metadata": {},
   "source": [
    "# Decoder architecture"
   ]
  },
  {
   "cell_type": "code",
   "execution_count": 9,
   "metadata": {},
   "outputs": [],
   "source": [
    "class Decoder(tf.keras.layers.Layer):\n",
    "  def __init__(self,conv_shape = shape, num_filters = conv_filters, num_kernel_size= conv_kernel_size, latent_dim=32, intermediate_dim = 64): # Nawid - Need to put the shape of post convolution into the parameters\n",
    "    super(Decoder,self).__init__()\n",
    "    self.Dense_intermediate = tf.keras.layers.Dense(intermediate_dim, activation='relu')\n",
    "    self.Dense_original = tf.keras.layers.Dense(conv_shape[1]*conv_shape[2]*conv_shape[3], activation ='relu') # Nawid - Need to use the shape from the encoder\n",
    "    self.Reshape = tf.keras.layers.Reshape((conv_shape[1], conv_shape[2], conv_shape[3])) # Nawid - Need to reshape to the shape after the convolution\n",
    "    self.Conv_transpose1 = tf.keras.layers.Conv2DTranspose(filters =num_filters, kernel_size = num_kernel_size, activation ='relu', strides=2, padding='same') # Nawid- Convolutional transpose steps to get back to original shape\n",
    "    self.Conv_transpose2 = tf.keras.layers.Conv2DTranspose(filters =num_filters//2, kernel_size = num_kernel_size, activation ='relu', strides=2, padding='same')\n",
    "    self.Conv_transpose3 = tf.keras.layers.Conv2DTranspose(filters =1, kernel_size = num_kernel_size, activation ='sigmoid',padding = 'same')\n",
    "\n",
    "  def call(self, inputs):\n",
    "    x1= self.Dense_intermediate(inputs)\n",
    "    x1 = self.Dense_original(x1)\n",
    "    x_pre_conv_transpose = self.Reshape(x1)\n",
    "    x_conv_transpose= self.Conv_transpose1(x_pre_conv_transpose)\n",
    "    x_conv_transpose = self.Conv_transpose2(x_conv_transpose)\n",
    "    x_reconstruct = self.Conv_transpose3(x_conv_transpose)\n",
    "    return x_reconstruct\n"
   ]
  },
  {
   "cell_type": "markdown",
   "metadata": {},
   "source": [
    "# VAE instantiation"
   ]
  },
  {
   "cell_type": "code",
   "execution_count": 10,
   "metadata": {},
   "outputs": [
    {
     "name": "stdout",
     "output_type": "stream",
     "text": [
      "Model: \"model_1\"\n",
      "_________________________________________________________________\n",
      "Layer (type)                 Output Shape              Param #   \n",
      "=================================================================\n",
      "input_1 (InputLayer)         [(None, 28, 28, 1)]       0         \n",
      "_________________________________________________________________\n",
      "encoder (Encoder)            ((None, 32), (None, 32),  109376    \n",
      "_________________________________________________________________\n",
      "decoder (Decoder)            (None, 28, 28, 1)         109889    \n",
      "=================================================================\n",
      "Total params: 219,265\n",
      "Trainable params: 219,265\n",
      "Non-trainable params: 0\n",
      "_________________________________________________________________\n",
      "Model: \"model_2\"\n",
      "_________________________________________________________________\n",
      "Layer (type)                 Output Shape              Param #   \n",
      "=================================================================\n",
      "input_2 (InputLayer)         [(None, 32)]              0         \n",
      "_________________________________________________________________\n",
      "decoder (Decoder)            (None, 28, 28, 1)         109889    \n",
      "=================================================================\n",
      "Total params: 109,889\n",
      "Trainable params: 109,889\n",
      "Non-trainable params: 0\n",
      "_________________________________________________________________\n"
     ]
    }
   ],
   "source": [
    "output = Decoder()(z)\n",
    "\n",
    "vae =tf.keras.Model(x, output)\n",
    "vae.summary()\n",
    "\n",
    "decoder_input = tf.keras.layers.Input(shape = (latent_dim))\n",
    "decoder_layer = vae.layers[-1]\n",
    "decoder_output = decoder_layer(decoder_input)\n",
    "\n",
    "decoder_model = tf.keras.Model(decoder_input, decoder_output)\n",
    "decoder_model.summary()\n"
   ]
  },
  {
   "cell_type": "code",
   "execution_count": 13,
   "metadata": {},
   "outputs": [],
   "source": [
    "def vae_loss(x, x_decoded_mean):\n",
    "    xent_loss = tf.keras.losses.binary_crossentropy(tf.keras.backend.flatten(x), tf.keras.backend.flatten(x_decoded_mean))\n",
    "    xent_loss *= original_dim\n",
    "    #xent_loss = tf.keras.backend.mean(xent_loss)\n",
    "    kl_loss = - 0.5 * tf.keras.backend.mean(1 + z_log_var - tf.keras.backend.square(z_mean) - tf.keras.backend.exp(z_log_var), axis=-1)\n",
    "    return xent_loss + kl_loss\n",
    "\n",
    "vae.compile(optimizer='adam', loss=vae_loss,experimental_run_tf_function=False)\n",
    "# Explanation for where experimental_run_tf comes from -  https://github.com/tensorflow/probability/issues/519 \n",
    "\n",
    "#vae.compile(optimizer='adam', loss='binary_crossentropy', experimental_run_tf_function=False)"
   ]
  },
  {
   "cell_type": "code",
   "execution_count": 14,
   "metadata": {},
   "outputs": [
    {
     "name": "stdout",
     "output_type": "stream",
     "text": [
      "Train on 60000 samples, validate on 10000 samples\n",
      "Epoch 1/5\n",
      "60000/60000 [==============================] - 16s 267us/sample - loss: 214.6761 - val_loss: 147.7002\n",
      "Epoch 2/5\n",
      "60000/60000 [==============================] - 15s 254us/sample - loss: 131.3713 - val_loss: 119.9933\n",
      "Epoch 3/5\n",
      "60000/60000 [==============================] - 15s 254us/sample - loss: 116.6258 - val_loss: 112.4401\n",
      "Epoch 4/5\n",
      "60000/60000 [==============================] - 15s 255us/sample - loss: 111.2934 - val_loss: 108.8363\n",
      "Epoch 5/5\n",
      "60000/60000 [==============================] - 15s 252us/sample - loss: 108.1635 - val_loss: 106.4114\n"
     ]
    },
    {
     "data": {
      "text/plain": [
       "<tensorflow.python.keras.callbacks.History at 0x7fc880372a10>"
      ]
     },
     "execution_count": 14,
     "metadata": {},
     "output_type": "execute_result"
    }
   ],
   "source": [
    "vae.fit(x_train_noisy, x_train,\n",
    "        shuffle=True,\n",
    "        epochs=epochs,\n",
    "        batch_size=batch_size,\n",
    "        validation_data=(x_test_noisy, x_test))"
   ]
  },
  {
   "cell_type": "code",
   "execution_count": 15,
   "metadata": {},
   "outputs": [
    {
     "data": {
      "image/png": "[encoded data removed]",
      "text/plain": [
       "<Figure size 1440x288 with 20 Axes>"
      ]
     },
     "metadata": {
      "needs_background": "light"
     },
     "output_type": "display_data"
    }
   ],
   "source": [
    "encoded_imgs = encoder_model.predict(x_test_noisy)\n",
    "decoded_imgs = decoder_model.predict(encoded_imgs)\n",
    "#decoded_imgs = vae.predict(x_test_noisy)\n",
    "\n",
    "n = 10  # how many digits we will display\n",
    "plt.figure(figsize=(20, 4))\n",
    "for i in range(10):\n",
    "    # display original\n",
    "    ax = plt.subplot(2, n, i + 1)\n",
    "    plt.imshow(x_test_noisy[i].reshape(28, 28))\n",
    "    plt.gray()\n",
    "    ax.get_xaxis().set_visible(False)\n",
    "    ax.get_yaxis().set_visible(False)\n",
    "\n",
    "    # display reconstruction\n",
    "    ax = plt.subplot(2, n, i + 1 + n)\n",
    "    plt.imshow(decoded_imgs[i].reshape(28, 28))\n",
    "    plt.gray()\n",
    "    ax.get_xaxis().set_visible(False)\n",
    "    ax.get_yaxis().set_visible(False)\n",
    "plt.show()"
   ]
  },
  {
   "cell_type": "code",
   "execution_count": null,
   "metadata": {},
   "outputs": [],
   "source": []
  }
 ],
 "metadata": {
  "kernelspec": {
   "display_name": "Python 3",
   "language": "python",
   "name": "python3"
  },
  "language_info": {
   "codemirror_mode": {
    "name": "ipython",
    "version": 3
   },
   "file_extension": ".py",
   "mimetype": "text/x-python",
   "name": "python",
   "nbconvert_exporter": "python",
   "pygments_lexer": "ipython3",
   "version": "3.7.5"
  }
 },
 "nbformat": 4,
 "nbformat_minor": 2
}
