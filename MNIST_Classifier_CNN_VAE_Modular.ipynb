{
 "cells": [
  {
   "cell_type": "code",
   "execution_count": 2,
   "metadata": {},
   "outputs": [],
   "source": [
    "import matplotlib\n",
    "import matplotlib.pyplot as plt\n",
    "import tensorflow as tf\n",
    "import numpy as np"
   ]
  },
  {
   "cell_type": "code",
   "execution_count": 1,
   "metadata": {},
   "outputs": [
    {
     "name": "stdout",
     "output_type": "stream",
     "text": [
      "Using device:  /device:GPU:0\n"
     ]
    }
   ],
   "source": [
    "# Set up some global variables\n",
    "USE_GPU = True\n",
    "\n",
    "if USE_GPU:\n",
    "    device = '/device:GPU:0'\n",
    "else:\n",
    "    device = '/cpu:0'\n",
    "\n",
    "# Constant to control how often we print when training models\n",
    "print_every = 100\n",
    "\n",
    "print('Using device: ', device)"
   ]
  },
  {
   "cell_type": "markdown",
   "metadata": {},
   "source": [
    "# Preprocessing"
   ]
  },
  {
   "cell_type": "code",
   "execution_count": 4,
   "metadata": {},
   "outputs": [
    {
     "name": "stdout",
     "output_type": "stream",
     "text": [
      "[0. 0. 0. 0. 0. 1. 0. 0. 0. 0.]\n"
     ]
    }
   ],
   "source": [
    "# MNIST dataset\n",
    "(x_train, y_train), (x_test, y_test) = tf.keras.datasets.mnist.load_data()\n",
    "\n",
    "image_size = x_train.shape[1]\n",
    "original_dim = image_size * image_size\n",
    "\n",
    "x_train = x_train.astype('float32') / 255. # Nawid - Divides the values by 255\n",
    "x_test = x_test.astype('float32') / 255.\n",
    "x_train =np.reshape(x_train, [-1, image_size, image_size, 1])\n",
    "x_test =np.reshape(x_test, [-1, image_size, image_size, 1])\n",
    "\n",
    "# Nawid - This encodes the labels as a one-hot vector which is required for the classification \n",
    "y_train =tf.keras.utils.to_categorical(y_train)\n",
    "y_test = tf.keras.utils.to_categorical(y_test)\n",
    "print(y_train[0])"
   ]
  },
  {
   "cell_type": "markdown",
   "metadata": {},
   "source": [
    "# Architecture - Convolutional Classifier"
   ]
  },
  {
   "cell_type": "code",
   "execution_count": 5,
   "metadata": {},
   "outputs": [],
   "source": [
    "# conv net parameters\n",
    "classifier_filters = 64\n",
    "classifier_kernel = 3\n",
    "classes = 10"
   ]
  },
  {
   "cell_type": "code",
   "execution_count": 6,
   "metadata": {},
   "outputs": [],
   "source": [
    "#https://www.tensorflow.org/api_docs/python/tf/keras/Model#-  Model subclassing approach taken\n",
    "\n",
    "class Conv_classifier(tf.keras.Model):\n",
    "\n",
    "  def __init__(self,num_filters = classifier_filters,num_kernel_size = classifier_kernel,num_classes = classes):\n",
    "    super(Conv_classifier, self).__init__()\n",
    "    self.conv1 = tf.keras.layers.Conv2D(filters = num_filters, kernel_size = num_kernel_size, activation ='relu')\n",
    "    self.conv2 = tf.keras.layers.Conv2D(filters = num_filters//2, kernel_size = num_kernel_size, activation = 'relu')\n",
    "    self.Flatten = tf.keras.layers.Flatten()\n",
    "    self.Dense_output = tf.keras.layers.Dense(num_classes, activation = 'softmax')\n",
    "\n",
    "  def call(self, inputs):\n",
    "    x = self.conv1(inputs)\n",
    "    x = self.conv2(x)\n",
    "    x = self.Flatten(x)\n",
    "    output_class = self.Dense_output(x)\n",
    "    return output_class\n",
    "\n"
   ]
  },
  {
   "cell_type": "code",
   "execution_count": null,
   "metadata": {},
   "outputs": [
    {
     "name": "stdout",
     "output_type": "stream",
     "text": [
      "Train on 60000 samples, validate on 10000 samples\n",
      "Epoch 1/10\n",
      "60000/60000 [==============================] - 71s 1ms/sample - loss: 0.1341 - accuracy: 0.9607 - val_loss: 0.0538 - val_accuracy: 0.9831\n",
      "Epoch 2/10\n",
      "60000/60000 [==============================] - 74s 1ms/sample - loss: 0.0486 - accuracy: 0.9849 - val_loss: 0.0440 - val_accuracy: 0.9855\n",
      "Epoch 3/10\n",
      "60000/60000 [==============================] - 73s 1ms/sample - loss: 0.0305 - accuracy: 0.9909 - val_loss: 0.0402 - val_accuracy: 0.9880\n",
      "Epoch 4/10\n",
      "60000/60000 [==============================] - 78s 1ms/sample - loss: 0.0206 - accuracy: 0.9934 - val_loss: 0.0412 - val_accuracy: 0.9868\n",
      "Epoch 5/10\n",
      "60000/60000 [==============================] - 74s 1ms/sample - loss: 0.0134 - accuracy: 0.9957 - val_loss: 0.0538 - val_accuracy: 0.9863\n",
      "Epoch 6/10\n",
      "60000/60000 [==============================] - 77s 1ms/sample - loss: 0.0108 - accuracy: 0.9963 - val_loss: 0.0585 - val_accuracy: 0.9849\n",
      "Epoch 7/10\n",
      "60000/60000 [==============================] - 72s 1ms/sample - loss: 0.0073 - accuracy: 0.9976 - val_loss: 0.0630 - val_accuracy: 0.9859\n",
      "Epoch 8/10\n",
      " 7072/60000 [==>...........................] - ETA: 1:16 - loss: 0.0028 - accuracy: 0.9990"
     ]
    }
   ],
   "source": [
    "MNIST_classifier = Conv_classifier()\n",
    "#compile model using accuracy to measure model performance\n",
    "MNIST_classifier.compile(optimizer='adam', loss='categorical_crossentropy', metrics=['accuracy']) # Nawid - ADDING THE ACCURACY METRIC Shows the classification accuracy on  the validation set\n",
    "#train the model\n",
    "MNIST_classifier.fit(x_train, y_train, validation_data=(x_test, y_test), epochs=10)"
   ]
  },
  {
   "cell_type": "markdown",
   "metadata": {},
   "source": [
    "# Architecture- VAE"
   ]
  },
  {
   "cell_type": "markdown",
   "metadata": {},
   "source": [
    "## Network parameters"
   ]
  },
  {
   "cell_type": "code",
   "execution_count": null,
   "metadata": {},
   "outputs": [],
   "source": [
    "# network parameters\n",
    "input_shape = (28,28,1)\n",
    "intermediate_dimension = 64\n",
    "batch_size = 128\n",
    "latent_dimension = 2\n",
    "epochs = 10\n",
    "conv_filters = 16\n",
    "conv_kernel_size = 3\n",
    "\n",
    "classification_results = np.zeros((6,2))"
   ]
  },
  {
   "cell_type": "markdown",
   "metadata": {},
   "source": [
    "## Encoder architecture"
   ]
  },
  {
   "cell_type": "code",
   "execution_count": null,
   "metadata": {},
   "outputs": [],
   "source": [
    "class Sampling(tf.keras.layers.Layer): # Nawid - Specifies a custom layer\n",
    "  \"\"\"Uses (z_mean, z_log_var) to sample z, the vector encoding a digit.\"\"\"\n",
    "\n",
    "  def call(self, inputs):\n",
    "    z_mean, z_log_sigma = inputs\n",
    "    batch = tf.shape(z_mean)[0]\n",
    "    dim = tf.shape(z_mean)[1]\n",
    "    epsilon = tf.keras.backend.random_normal(shape=(batch, dim)) # Nawid - Initalised random values with a mean of 0 and a standard deviation of 1\n",
    "    return z_mean + tf.exp(0.5 * z_log_sigma) * epsilon\n",
    "\n",
    "#z = Sampling()((z_mean, z_log_sigma)) # Nawid - Instantiates the custom layer and gets the output of the custom layer which is the value of z"
   ]
  },
  {
   "cell_type": "code",
   "execution_count": null,
   "metadata": {},
   "outputs": [],
   "source": [
    "class Encoder(tf.keras.layers.Layer): # Nawid - This defines the layer for the encoder\n",
    "  def __init__(self,latent_dim, num_filters = conv_filters, num_kernel_size= conv_kernel_size, intermediate_dim = intermediate_dimension):\n",
    "    super(Encoder, self).__init__()\n",
    "    print('Encoder latent_dim',latent_dim)\n",
    "    self.Conv1 = tf.keras.layers.Conv2D(filters = num_filters, kernel_size = num_kernel_size, activation ='relu', strides = 2, padding = 'same')\n",
    "    self.Conv2 = tf.keras.layers.Conv2D(filters = 2*num_filters, kernel_size = num_kernel_size, activation ='relu', strides = 2, padding = 'same')\n",
    "    self.Flatten  = tf.keras.layers.Flatten()\n",
    "\n",
    "    self.Dense1 = tf.keras.layers.Dense(intermediate_dim, activation='relu')\n",
    "    self.Dense_mean = tf.keras.layers.Dense(latent_dim)\n",
    "    self.Dense_log_var = tf.keras.layers.Dense(latent_dim)\n",
    "    self.sampling = Sampling() # Nawid-  This instantiates the sampling layer for the encoder\n",
    "\n",
    "  def call(self,inputs):\n",
    "    x1 = self.Conv1(inputs)\n",
    "    x1 = self.Conv2(x1)\n",
    "\n",
    "    self.conv_shape = tf.keras.backend.int_shape(x1) # Nawid - This gets the shape which is required for the decoding when using the conv2D transpose\n",
    "    flattened_x1 = self.Flatten(x1)\n",
    "\n",
    "    flattened_intermediate = self.Dense1(flattened_x1)\n",
    "    z_mean = self.Dense_mean(flattened_intermediate)\n",
    "    z_log_var = self.Dense_log_var(flattened_intermediate)\n",
    "    z = self.sampling((z_mean, z_log_var))\n",
    "    return z_mean,z_log_var, z#, conv_shape # Nawid-  Need to output the z variables as well as the shape for the decoder\n",
    "\n"
   ]
  },
  {
   "cell_type": "markdown",
   "metadata": {},
   "source": [
    "## Decoder"
   ]
  },
  {
   "cell_type": "code",
   "execution_count": null,
   "metadata": {},
   "outputs": [],
   "source": [
    "class Decoder(tf.keras.layers.Layer):\n",
    "  def __init__(self, latent_dim,conv_shape, num_filters = conv_filters, num_kernel_size= conv_kernel_size, intermediate_dim = intermediate_dimension): # Nawid - Need to put the shape of post convolution into the parameters\n",
    "    super(Decoder,self).__init__()\n",
    "    print('Decoder latent_dim', latent_dim)\n",
    "    self.Dense_intermediate = tf.keras.layers.Dense(intermediate_dim, activation='relu')\n",
    "    self.Dense_original = tf.keras.layers.Dense(conv_shape[1]*conv_shape[2]*conv_shape[3], activation ='relu') # Nawid - Need to use the shape from the encoder\n",
    "    self.Reshape = tf.keras.layers.Reshape((conv_shape[1], conv_shape[2], conv_shape[3])) # Nawid - Need to reshape to the shape after the convolution\n",
    "    self.Conv_transpose1 = tf.keras.layers.Conv2DTranspose(filters =num_filters, kernel_size = num_kernel_size, activation ='relu', strides=2, padding='same') # Nawid- Convolutional transpose steps to get back to original shape\n",
    "    self.Conv_transpose2 = tf.keras.layers.Conv2DTranspose(filters =num_filters//2, kernel_size = num_kernel_size, activation ='relu', strides=2, padding='same')\n",
    "    self.Conv_transpose3 = tf.keras.layers.Conv2DTranspose(filters =1, kernel_size = num_kernel_size, activation ='sigmoid',padding = 'same')\n",
    "\n",
    "  def call(self, inputs):\n",
    "    x1= self.Dense_intermediate(inputs)\n",
    "    x1 = self.Dense_original(x1)\n",
    "    x_pre_conv_transpose = self.Reshape(x1)\n",
    "    x_conv_transpose= self.Conv_transpose1(x_pre_conv_transpose)\n",
    "    x_conv_transpose = self.Conv_transpose2(x_conv_transpose)\n",
    "    x_reconstruct = self.Conv_transpose3(x_conv_transpose)\n",
    "    return x_reconstruct\n"
   ]
  },
  {
   "cell_type": "code",
   "execution_count": null,
   "metadata": {},
   "outputs": [],
   "source": [
    "def vae_loss(x, x_decoded_mean):\n",
    "    xent_loss = tf.keras.losses.binary_crossentropy(tf.keras.backend.flatten(x), tf.keras.backend.flatten(x_decoded_mean))\n",
    "    xent_loss *= original_dim\n",
    "    #xent_loss = tf.keras.backend.mean(xent_loss)\n",
    "    kl_loss = - 0.5 * tf.keras.backend.mean(1 + z_log_var - tf.keras.backend.square(z_mean) - tf.keras.backend.exp(z_log_var), axis=-1)\n",
    "    return xent_loss + kl_loss"
   ]
  },
  {
   "cell_type": "markdown",
   "metadata": {},
   "source": [
    "# Testing classification when there are various different latent dimensions"
   ]
  },
  {
   "cell_type": "code",
   "execution_count": null,
   "metadata": {},
   "outputs": [],
   "source": [
    "for i in range(classification_results.shape[0]):\n",
    "  x = tf.keras.layers.Input(shape=(image_size,image_size,1))  # Nawid - Input layer\n",
    "  encoder = Encoder(latent_dimension) # Nawid - Instantiates encoder layer which is required to find the shape property\n",
    "  z_mean, z_log_var, z = encoder(x)\n",
    "  shape = encoder.conv_shape\n",
    "  encoder_model = tf.keras.Model(x,z)\n",
    "  encoder_model.summary()\n",
    "  \n",
    "  output = Decoder(latent_dimension,shape)(z)\n",
    "  vae =tf.keras.Model(x, output)\n",
    "  vae.summary()\n",
    "  \n",
    "  decoder_input = tf.keras.layers.Input(shape = (latent_dimension))\n",
    "  decoder_layer = vae.layers[-1]\n",
    "  decoder_output = decoder_layer(decoder_input)\n",
    "  \n",
    "  decoder_model = tf.keras.Model(decoder_input, decoder_output)\n",
    "  decoder_model.summary()\n",
    "  vae.compile(optimizer='adam', loss=vae_loss,experimental_run_tf_function=False)\n",
    "\n",
    "  vae.fit(x_train, x_train,\n",
    "        shuffle=True,\n",
    "        epochs=epochs,\n",
    "        batch_size=batch_size,\n",
    "        validation_data=(x_test, x_test))\n",
    "  encoded_imgs = encoder_model.predict(x_test)\n",
    "  decoded_imgs = decoder_model.predict(encoded_imgs)\n",
    "  #decoded_imgs = vae.predict(x_test_noisy)\n",
    "\n",
    "  test_loss, test_acc = MNIST_classifier.evaluate(decoded_imgs,  y_test, verbose=2)\n",
    "  classification_results[i,0] = latent_dimension\n",
    "  classification_results[i,1] = test_acc\n",
    "  latent_dimension *= 2\n",
    "    \n",
    "print(classification_results)"
   ]
  },
  {
   "cell_type": "code",
   "execution_count": null,
   "metadata": {},
   "outputs": [],
   "source": []
  }
 ],
 "metadata": {
  "kernelspec": {
   "display_name": "Python 3",
   "language": "python",
   "name": "python3"
  },
  "language_info": {
   "codemirror_mode": {
    "name": "ipython",
    "version": 3
   },
   "file_extension": ".py",
   "mimetype": "text/x-python",
   "name": "python",
   "nbconvert_exporter": "python",
   "pygments_lexer": "ipython3",
   "version": "3.7.5"
  }
 },
 "nbformat": 4,
 "nbformat_minor": 2
}
